{
 "cells": [
  {
   "cell_type": "markdown",
   "id": "a8ebf3a5",
   "metadata": {},
   "source": [
    "## Краткое содержание\n",
    "\n",
    "Статья про датасет: https://www.ncbi.nlm.nih.gov/pmc/articles/PMC4113415/\n",
    "\n",
    "\n",
    "| Признаки | Модель | dev R^2 | test R^2 |\n",
    "| --- | --- | --- | --- |\n",
    "| - | const | 0 | 0 |\n",
    "| 1-gram char | linear regression | 0.4097 | - |\n",
    "| 2-gram char | linear regression | 0.4219 | - |\n",
    "| 2-gram char + len | linear regression | 0.4324 | 0.4924 |\n",
    "| 2-gram char + len | random forest | 0.8339 | - |\n",
    "| 2-gram char + len | catboost | 0.8379 | 0.9444 |\n",
    "| колонка \"calc\" | - | 0.8866 | 0.8812 |\n",
    "\n",
    "\n",
    "Код отдельно не выносил, так как мне показалось, что он не слишком загромождает отчёт. \n",
    "\n",
    "\n",
    "Другие подходы не пробовал, так как random forest и catboost показали довольно-таки хорошие метрики и вряд ли найдутся модели получше, так как если взять колонку calc (вычисленные значения по формуле) в качестве предсказаний, то получаются аналогичные метрики. Ну и у меня времени было не так уж и много."
   ]
  },
  {
   "cell_type": "code",
   "execution_count": 1,
   "id": "68f413bc",
   "metadata": {},
   "outputs": [],
   "source": [
    "from matplotlib import pyplot as plt\n",
    "import numpy as np\n",
    "import pandas as pd\n",
    "\n",
    "import catboost\n",
    "\n",
    "from sklearn import ensemble\n",
    "from sklearn import linear_model\n",
    "from sklearn import metrics\n",
    "from sklearn import model_selection\n",
    "from sklearn.feature_extraction import text as sk_text\n",
    "\n",
    "%matplotlib inline"
   ]
  },
  {
   "cell_type": "markdown",
   "id": "5589450c",
   "metadata": {},
   "source": [
    "## Данные"
   ]
  },
  {
   "cell_type": "markdown",
   "id": "835b1df4",
   "metadata": {},
   "source": [
    "### Загружаем данные"
   ]
  },
  {
   "cell_type": "code",
   "execution_count": 2,
   "id": "9e6fc1c0",
   "metadata": {},
   "outputs": [
    {
     "name": "stdout",
     "output_type": "stream",
     "text": [
      "--2022-02-18 05:29:16--  https://deepchemdata.s3-us-west-1.amazonaws.com/datasets/SAMPL.csv\n",
      "Resolving deepchemdata.s3-us-west-1.amazonaws.com (deepchemdata.s3-us-west-1.amazonaws.com)... 64:ff9b::34db:7461\n",
      "Connecting to deepchemdata.s3-us-west-1.amazonaws.com (deepchemdata.s3-us-west-1.amazonaws.com)|64:ff9b::34db:7461|:443... connected.\n",
      "HTTP request sent, awaiting response... 200 OK\n",
      "Length: 32060 (31K) [text/csv]\n",
      "Saving to: ‘FreeSolv.csv’\n",
      "\n",
      "100%[======================================>] 32 060       160KB/s   in 0,2s   \n",
      "\n",
      "2022-02-18 05:29:18 (160 KB/s) - ‘FreeSolv.csv’ saved [32060/32060]\n",
      "\n"
     ]
    }
   ],
   "source": [
    "!wget -O FreeSolv.csv https://deepchemdata.s3-us-west-1.amazonaws.com/datasets/SAMPL.csv"
   ]
  },
  {
   "cell_type": "markdown",
   "id": "aad10cc3",
   "metadata": {},
   "source": [
    "### Смотрим на сырые данные"
   ]
  },
  {
   "cell_type": "code",
   "execution_count": 3,
   "id": "5200457e",
   "metadata": {},
   "outputs": [
    {
     "name": "stdout",
     "output_type": "stream",
     "text": [
      "iupac,smiles,expt,calc\r",
      "\r\n",
      "\"4-methoxy-N,N-dimethyl-benzamide\",CN(C)C(=O)c1ccc(cc1)OC,-11.01,-9.625\r",
      "\r\n",
      "methanesulfonyl chloride,CS(=O)(=O)Cl,-4.87,-6.219\r",
      "\r\n",
      "3-methylbut-1-ene,CC(C)C=C,1.83,2.452\r",
      "\r\n",
      "2-ethylpyrazine,CCc1cnccn1,-5.45,-5.809\r",
      "\r\n",
      "heptan-1-ol,CCCCCCCO,-4.21,-2.917\r",
      "\r\n",
      "\"3,5-dimethylphenol\",Cc1cc(cc(c1)O)C,-6.27,-5.444\r",
      "\r\n",
      "\"2,3-dimethylbutane\",CC(C)C(C)C,2.34,2.468\r",
      "\r\n",
      "2-methylpentan-2-ol,CCCC(C)(C)O,-3.92,-2.779\r",
      "\r\n",
      "\"1,2-dimethylcyclohexane\",C[C@@H]1CCCC[C@@H]1C,1.58,1.685\r",
      "\r\n"
     ]
    }
   ],
   "source": [
    "!head FreeSolv.csv"
   ]
  },
  {
   "cell_type": "code",
   "execution_count": 4,
   "id": "cf40286b",
   "metadata": {},
   "outputs": [
    {
     "name": "stdout",
     "output_type": "stream",
     "text": [
      "643 FreeSolv.csv\r\n"
     ]
    }
   ],
   "source": [
    "!wc -l FreeSolv.csv"
   ]
  },
  {
   "cell_type": "code",
   "execution_count": 5,
   "id": "676e77f5",
   "metadata": {},
   "outputs": [
    {
     "name": "stdout",
     "output_type": "stream",
     "text": [
      "1-methylnaphthalene,Cc1cccc2c1cccc2,-2.44,-3.212\r",
      "\r\n",
      "hexachlorobenzene,c1(c(c(c(c(c1Cl)Cl)Cl)Cl)Cl)Cl,-2.33,0.379\r",
      "\r\n",
      "oct-2-enal,CCCCC/C=C/C=O,-3.43,-2.706\r",
      "\r\n",
      "oct-1-yne,CCCCCCC#C,0.71,0.832\r",
      "\r\n",
      "diazinon,CCOP(=S)(OCC)Oc1cc(nc(n1)C(C)C)C,-6.48,-10.753\r",
      "\r\n",
      "methyl octanoate,CCCCCCCC(=O)OC,-2.04,-3.035\r",
      "\r\n",
      "pyrrolidine,C1CCNC1,-5.48,-4.278\r",
      "\r\n",
      "4-hydroxybenzaldehyde,c1cc(ccc1C=O)O,-8.83,-10.05\r",
      "\r\n",
      "1-chloroheptane,CCCCCCCCl,0.29,1.467\r",
      "\r\n",
      "\"1,4-dioxane\",C1COCCO1,-5.06,-4.269\r",
      "\r\n"
     ]
    }
   ],
   "source": [
    "!tail FreeSolv.csv"
   ]
  },
  {
   "cell_type": "markdown",
   "id": "975ba1e6",
   "metadata": {},
   "source": [
    "### Считываем данные и опять смотрим на них"
   ]
  },
  {
   "cell_type": "code",
   "execution_count": 6,
   "id": "c6731384",
   "metadata": {},
   "outputs": [],
   "source": [
    "df = pd.read_csv('FreeSolv.csv')"
   ]
  },
  {
   "cell_type": "code",
   "execution_count": 7,
   "id": "03012368",
   "metadata": {},
   "outputs": [
    {
     "data": {
      "text/html": [
       "<div>\n",
       "<style scoped>\n",
       "    .dataframe tbody tr th:only-of-type {\n",
       "        vertical-align: middle;\n",
       "    }\n",
       "\n",
       "    .dataframe tbody tr th {\n",
       "        vertical-align: top;\n",
       "    }\n",
       "\n",
       "    .dataframe thead th {\n",
       "        text-align: right;\n",
       "    }\n",
       "</style>\n",
       "<table border=\"1\" class=\"dataframe\">\n",
       "  <thead>\n",
       "    <tr style=\"text-align: right;\">\n",
       "      <th></th>\n",
       "      <th>iupac</th>\n",
       "      <th>smiles</th>\n",
       "      <th>expt</th>\n",
       "      <th>calc</th>\n",
       "    </tr>\n",
       "  </thead>\n",
       "  <tbody>\n",
       "    <tr>\n",
       "      <th>0</th>\n",
       "      <td>4-methoxy-N,N-dimethyl-benzamide</td>\n",
       "      <td>CN(C)C(=O)c1ccc(cc1)OC</td>\n",
       "      <td>-11.01</td>\n",
       "      <td>-9.625</td>\n",
       "    </tr>\n",
       "    <tr>\n",
       "      <th>1</th>\n",
       "      <td>methanesulfonyl chloride</td>\n",
       "      <td>CS(=O)(=O)Cl</td>\n",
       "      <td>-4.87</td>\n",
       "      <td>-6.219</td>\n",
       "    </tr>\n",
       "    <tr>\n",
       "      <th>2</th>\n",
       "      <td>3-methylbut-1-ene</td>\n",
       "      <td>CC(C)C=C</td>\n",
       "      <td>1.83</td>\n",
       "      <td>2.452</td>\n",
       "    </tr>\n",
       "    <tr>\n",
       "      <th>3</th>\n",
       "      <td>2-ethylpyrazine</td>\n",
       "      <td>CCc1cnccn1</td>\n",
       "      <td>-5.45</td>\n",
       "      <td>-5.809</td>\n",
       "    </tr>\n",
       "    <tr>\n",
       "      <th>4</th>\n",
       "      <td>heptan-1-ol</td>\n",
       "      <td>CCCCCCCO</td>\n",
       "      <td>-4.21</td>\n",
       "      <td>-2.917</td>\n",
       "    </tr>\n",
       "  </tbody>\n",
       "</table>\n",
       "</div>"
      ],
      "text/plain": [
       "                              iupac                  smiles   expt   calc\n",
       "0  4-methoxy-N,N-dimethyl-benzamide  CN(C)C(=O)c1ccc(cc1)OC -11.01 -9.625\n",
       "1          methanesulfonyl chloride            CS(=O)(=O)Cl  -4.87 -6.219\n",
       "2                 3-methylbut-1-ene                CC(C)C=C   1.83  2.452\n",
       "3                   2-ethylpyrazine              CCc1cnccn1  -5.45 -5.809\n",
       "4                       heptan-1-ol                CCCCCCCO  -4.21 -2.917"
      ]
     },
     "execution_count": 7,
     "metadata": {},
     "output_type": "execute_result"
    }
   ],
   "source": [
    "df.head()"
   ]
  },
  {
   "cell_type": "code",
   "execution_count": 8,
   "id": "4a6f86e7",
   "metadata": {
    "scrolled": true
   },
   "outputs": [
    {
     "data": {
      "text/plain": [
       "(642, 4)"
      ]
     },
     "execution_count": 8,
     "metadata": {},
     "output_type": "execute_result"
    }
   ],
   "source": [
    "df.shape"
   ]
  },
  {
   "cell_type": "code",
   "execution_count": 9,
   "id": "bd9b5f2c",
   "metadata": {},
   "outputs": [
    {
     "data": {
      "text/html": [
       "<div>\n",
       "<style scoped>\n",
       "    .dataframe tbody tr th:only-of-type {\n",
       "        vertical-align: middle;\n",
       "    }\n",
       "\n",
       "    .dataframe tbody tr th {\n",
       "        vertical-align: top;\n",
       "    }\n",
       "\n",
       "    .dataframe thead th {\n",
       "        text-align: right;\n",
       "    }\n",
       "</style>\n",
       "<table border=\"1\" class=\"dataframe\">\n",
       "  <thead>\n",
       "    <tr style=\"text-align: right;\">\n",
       "      <th></th>\n",
       "      <th>iupac</th>\n",
       "      <th>smiles</th>\n",
       "      <th>expt</th>\n",
       "      <th>calc</th>\n",
       "    </tr>\n",
       "  </thead>\n",
       "  <tbody>\n",
       "    <tr>\n",
       "      <th>count</th>\n",
       "      <td>642</td>\n",
       "      <td>642</td>\n",
       "      <td>642.000000</td>\n",
       "      <td>642.000000</td>\n",
       "    </tr>\n",
       "    <tr>\n",
       "      <th>unique</th>\n",
       "      <td>642</td>\n",
       "      <td>642</td>\n",
       "      <td>NaN</td>\n",
       "      <td>NaN</td>\n",
       "    </tr>\n",
       "    <tr>\n",
       "      <th>top</th>\n",
       "      <td>4-methoxy-N,N-dimethyl-benzamide</td>\n",
       "      <td>CN(C)C(=O)c1ccc(cc1)OC</td>\n",
       "      <td>NaN</td>\n",
       "      <td>NaN</td>\n",
       "    </tr>\n",
       "    <tr>\n",
       "      <th>freq</th>\n",
       "      <td>1</td>\n",
       "      <td>1</td>\n",
       "      <td>NaN</td>\n",
       "      <td>NaN</td>\n",
       "    </tr>\n",
       "    <tr>\n",
       "      <th>mean</th>\n",
       "      <td>NaN</td>\n",
       "      <td>NaN</td>\n",
       "      <td>-3.803006</td>\n",
       "      <td>-3.486223</td>\n",
       "    </tr>\n",
       "    <tr>\n",
       "      <th>std</th>\n",
       "      <td>NaN</td>\n",
       "      <td>NaN</td>\n",
       "      <td>3.847820</td>\n",
       "      <td>4.186301</td>\n",
       "    </tr>\n",
       "    <tr>\n",
       "      <th>min</th>\n",
       "      <td>NaN</td>\n",
       "      <td>NaN</td>\n",
       "      <td>-25.470000</td>\n",
       "      <td>-21.762000</td>\n",
       "    </tr>\n",
       "    <tr>\n",
       "      <th>25%</th>\n",
       "      <td>NaN</td>\n",
       "      <td>NaN</td>\n",
       "      <td>-5.727500</td>\n",
       "      <td>-5.421500</td>\n",
       "    </tr>\n",
       "    <tr>\n",
       "      <th>50%</th>\n",
       "      <td>NaN</td>\n",
       "      <td>NaN</td>\n",
       "      <td>-3.530000</td>\n",
       "      <td>-3.053500</td>\n",
       "    </tr>\n",
       "    <tr>\n",
       "      <th>75%</th>\n",
       "      <td>NaN</td>\n",
       "      <td>NaN</td>\n",
       "      <td>-1.215000</td>\n",
       "      <td>-0.480750</td>\n",
       "    </tr>\n",
       "    <tr>\n",
       "      <th>max</th>\n",
       "      <td>NaN</td>\n",
       "      <td>NaN</td>\n",
       "      <td>3.430000</td>\n",
       "      <td>3.335000</td>\n",
       "    </tr>\n",
       "  </tbody>\n",
       "</table>\n",
       "</div>"
      ],
      "text/plain": [
       "                                   iupac                  smiles        expt  \\\n",
       "count                                642                     642  642.000000   \n",
       "unique                               642                     642         NaN   \n",
       "top     4-methoxy-N,N-dimethyl-benzamide  CN(C)C(=O)c1ccc(cc1)OC         NaN   \n",
       "freq                                   1                       1         NaN   \n",
       "mean                                 NaN                     NaN   -3.803006   \n",
       "std                                  NaN                     NaN    3.847820   \n",
       "min                                  NaN                     NaN  -25.470000   \n",
       "25%                                  NaN                     NaN   -5.727500   \n",
       "50%                                  NaN                     NaN   -3.530000   \n",
       "75%                                  NaN                     NaN   -1.215000   \n",
       "max                                  NaN                     NaN    3.430000   \n",
       "\n",
       "              calc  \n",
       "count   642.000000  \n",
       "unique         NaN  \n",
       "top            NaN  \n",
       "freq           NaN  \n",
       "mean     -3.486223  \n",
       "std       4.186301  \n",
       "min     -21.762000  \n",
       "25%      -5.421500  \n",
       "50%      -3.053500  \n",
       "75%      -0.480750  \n",
       "max       3.335000  "
      ]
     },
     "execution_count": 9,
     "metadata": {},
     "output_type": "execute_result"
    }
   ],
   "source": [
    "df.describe(include='all')"
   ]
  },
  {
   "cell_type": "markdown",
   "id": "89e4d622",
   "metadata": {},
   "source": [
    "### Разбиваем на train/dev/test"
   ]
  },
  {
   "cell_type": "code",
   "execution_count": 10,
   "id": "901a7fc9",
   "metadata": {},
   "outputs": [],
   "source": [
    "train_dev_df, test_df = model_selection.train_test_split(df, test_size=0.1, random_state=42)"
   ]
  },
  {
   "cell_type": "code",
   "execution_count": 11,
   "id": "c0c7c65f",
   "metadata": {},
   "outputs": [],
   "source": [
    "train_df, dev_df = model_selection.train_test_split(train_dev_df, test_size=1/9, random_state=42)"
   ]
  },
  {
   "cell_type": "code",
   "execution_count": 12,
   "id": "822a44b3",
   "metadata": {},
   "outputs": [
    {
     "data": {
      "text/plain": [
       "((512, 4), (65, 4), (65, 4))"
      ]
     },
     "execution_count": 12,
     "metadata": {},
     "output_type": "execute_result"
    }
   ],
   "source": [
    "train_df.shape, dev_df.shape, test_df.shape"
   ]
  },
  {
   "cell_type": "code",
   "execution_count": 13,
   "id": "d4284e45",
   "metadata": {},
   "outputs": [
    {
     "data": {
      "text/html": [
       "<div>\n",
       "<style scoped>\n",
       "    .dataframe tbody tr th:only-of-type {\n",
       "        vertical-align: middle;\n",
       "    }\n",
       "\n",
       "    .dataframe tbody tr th {\n",
       "        vertical-align: top;\n",
       "    }\n",
       "\n",
       "    .dataframe thead th {\n",
       "        text-align: right;\n",
       "    }\n",
       "</style>\n",
       "<table border=\"1\" class=\"dataframe\">\n",
       "  <thead>\n",
       "    <tr style=\"text-align: right;\">\n",
       "      <th></th>\n",
       "      <th>iupac</th>\n",
       "      <th>smiles</th>\n",
       "      <th>expt</th>\n",
       "      <th>calc</th>\n",
       "    </tr>\n",
       "  </thead>\n",
       "  <tbody>\n",
       "    <tr>\n",
       "      <th>286</th>\n",
       "      <td>methane</td>\n",
       "      <td>C</td>\n",
       "      <td>2.00</td>\n",
       "      <td>2.446</td>\n",
       "    </tr>\n",
       "    <tr>\n",
       "      <th>267</th>\n",
       "      <td>(1R)-2,2,2-trichloro-1-dimethoxyphosphoryl-eth...</td>\n",
       "      <td>COP(=O)([C@H](C(Cl)(Cl)Cl)O)OC</td>\n",
       "      <td>-12.74</td>\n",
       "      <td>-13.424</td>\n",
       "    </tr>\n",
       "    <tr>\n",
       "      <th>362</th>\n",
       "      <td>(2R,3R,4S,5S,6R)-6-(hydroxymethyl)tetrahydropy...</td>\n",
       "      <td>C([C@@H]1[C@H]([C@@H]([C@H]([C@@H](O1)O)O)O)O)O</td>\n",
       "      <td>-25.47</td>\n",
       "      <td>-18.095</td>\n",
       "    </tr>\n",
       "    <tr>\n",
       "      <th>224</th>\n",
       "      <td>methyl 2,2,2-trifluoroacetate</td>\n",
       "      <td>COC(=O)C(F)(F)F</td>\n",
       "      <td>-1.10</td>\n",
       "      <td>-1.353</td>\n",
       "    </tr>\n",
       "    <tr>\n",
       "      <th>318</th>\n",
       "      <td>3,5,5-trimethylcyclohex-2-en-1-one</td>\n",
       "      <td>CC1=CC(=O)CC(C1)(C)C</td>\n",
       "      <td>-5.18</td>\n",
       "      <td>-4.088</td>\n",
       "    </tr>\n",
       "  </tbody>\n",
       "</table>\n",
       "</div>"
      ],
      "text/plain": [
       "                                                 iupac  \\\n",
       "286                                            methane   \n",
       "267  (1R)-2,2,2-trichloro-1-dimethoxyphosphoryl-eth...   \n",
       "362  (2R,3R,4S,5S,6R)-6-(hydroxymethyl)tetrahydropy...   \n",
       "224                      methyl 2,2,2-trifluoroacetate   \n",
       "318                 3,5,5-trimethylcyclohex-2-en-1-one   \n",
       "\n",
       "                                              smiles   expt    calc  \n",
       "286                                                C   2.00   2.446  \n",
       "267                   COP(=O)([C@H](C(Cl)(Cl)Cl)O)OC -12.74 -13.424  \n",
       "362  C([C@@H]1[C@H]([C@@H]([C@H]([C@@H](O1)O)O)O)O)O -25.47 -18.095  \n",
       "224                                  COC(=O)C(F)(F)F  -1.10  -1.353  \n",
       "318                             CC1=CC(=O)CC(C1)(C)C  -5.18  -4.088  "
      ]
     },
     "execution_count": 13,
     "metadata": {},
     "output_type": "execute_result"
    }
   ],
   "source": [
    "train_df.head()"
   ]
  },
  {
   "cell_type": "code",
   "execution_count": 14,
   "id": "6d1e2b13",
   "metadata": {},
   "outputs": [
    {
     "data": {
      "text/html": [
       "<div>\n",
       "<style scoped>\n",
       "    .dataframe tbody tr th:only-of-type {\n",
       "        vertical-align: middle;\n",
       "    }\n",
       "\n",
       "    .dataframe tbody tr th {\n",
       "        vertical-align: top;\n",
       "    }\n",
       "\n",
       "    .dataframe thead th {\n",
       "        text-align: right;\n",
       "    }\n",
       "</style>\n",
       "<table border=\"1\" class=\"dataframe\">\n",
       "  <thead>\n",
       "    <tr style=\"text-align: right;\">\n",
       "      <th></th>\n",
       "      <th>iupac</th>\n",
       "      <th>smiles</th>\n",
       "      <th>expt</th>\n",
       "      <th>calc</th>\n",
       "    </tr>\n",
       "  </thead>\n",
       "  <tbody>\n",
       "    <tr>\n",
       "      <th>340</th>\n",
       "      <td>1,2,3,4-tetrachlorobenzene</td>\n",
       "      <td>c1cc(c(c(c1Cl)Cl)Cl)Cl</td>\n",
       "      <td>-1.34</td>\n",
       "      <td>-0.304</td>\n",
       "    </tr>\n",
       "    <tr>\n",
       "      <th>53</th>\n",
       "      <td>2,6-dimethoxyphenol</td>\n",
       "      <td>COc1cccc(c1O)OC</td>\n",
       "      <td>-6.96</td>\n",
       "      <td>-7.393</td>\n",
       "    </tr>\n",
       "    <tr>\n",
       "      <th>565</th>\n",
       "      <td>1-bromo-pentane</td>\n",
       "      <td>CCCCCBr</td>\n",
       "      <td>-0.10</td>\n",
       "      <td>0.824</td>\n",
       "    </tr>\n",
       "    <tr>\n",
       "      <th>557</th>\n",
       "      <td>naphthalen-2-amine</td>\n",
       "      <td>c1ccc2cc(ccc2c1)N</td>\n",
       "      <td>-7.47</td>\n",
       "      <td>-8.003</td>\n",
       "    </tr>\n",
       "    <tr>\n",
       "      <th>445</th>\n",
       "      <td>methoxymethane</td>\n",
       "      <td>COC</td>\n",
       "      <td>-1.91</td>\n",
       "      <td>-0.853</td>\n",
       "    </tr>\n",
       "  </tbody>\n",
       "</table>\n",
       "</div>"
      ],
      "text/plain": [
       "                          iupac                  smiles  expt   calc\n",
       "340  1,2,3,4-tetrachlorobenzene  c1cc(c(c(c1Cl)Cl)Cl)Cl -1.34 -0.304\n",
       "53          2,6-dimethoxyphenol         COc1cccc(c1O)OC -6.96 -7.393\n",
       "565             1-bromo-pentane                 CCCCCBr -0.10  0.824\n",
       "557          naphthalen-2-amine       c1ccc2cc(ccc2c1)N -7.47 -8.003\n",
       "445              methoxymethane                     COC -1.91 -0.853"
      ]
     },
     "execution_count": 14,
     "metadata": {},
     "output_type": "execute_result"
    }
   ],
   "source": [
    "dev_df.head()"
   ]
  },
  {
   "cell_type": "markdown",
   "id": "cc43ad80",
   "metadata": {},
   "source": [
    "### Смотрим на распределение ответов в тренировочной выборке"
   ]
  },
  {
   "cell_type": "code",
   "execution_count": 15,
   "id": "a65c3ff0",
   "metadata": {},
   "outputs": [
    {
     "data": {
      "text/plain": [
       "(array([  1.,   1.,   4.,   3.,   5.,  40.,  90., 196., 119.,  53.]),\n",
       " array([-25.47, -22.58, -19.69, -16.8 , -13.91, -11.02,  -8.13,  -5.24,\n",
       "         -2.35,   0.54,   3.43]),\n",
       " <BarContainer object of 10 artists>)"
      ]
     },
     "execution_count": 15,
     "metadata": {},
     "output_type": "execute_result"
    },
    {
     "data": {
      "image/png": "[encoded data removed]",
      "text/plain": [
       "<Figure size 432x288 with 1 Axes>"
      ]
     },
     "metadata": {
      "needs_background": "light"
     },
     "output_type": "display_data"
    }
   ],
   "source": [
    "plt.hist(train_df.expt)"
   ]
  },
  {
   "cell_type": "markdown",
   "id": "205aea04",
   "metadata": {},
   "source": [
    "### Смотрим на распределение длин входных строк в тренировочной выборке"
   ]
  },
  {
   "cell_type": "code",
   "execution_count": 16,
   "id": "bf2cd528",
   "metadata": {},
   "outputs": [
    {
     "data": {
      "text/plain": [
       "(array([149., 220.,  70.,  38.,  20.,   6.,   5.,   2.,   1.,   1.]),\n",
       " array([ 1. ,  9.1, 17.2, 25.3, 33.4, 41.5, 49.6, 57.7, 65.8, 73.9, 82. ]),\n",
       " <BarContainer object of 10 artists>)"
      ]
     },
     "execution_count": 16,
     "metadata": {},
     "output_type": "execute_result"
    },
    {
     "data": {
      "image/png": "[encoded data removed]",
      "text/plain": [
       "<Figure size 432x288 with 1 Axes>"
      ]
     },
     "metadata": {
      "needs_background": "light"
     },
     "output_type": "display_data"
    }
   ],
   "source": [
    "plt.hist(train_df.smiles.apply(lambda sm: len(sm)))"
   ]
  },
  {
   "cell_type": "markdown",
   "id": "7f8fd54e",
   "metadata": {},
   "source": [
    "## Подсчёт метрик"
   ]
  },
  {
   "cell_type": "markdown",
   "id": "ede8a794",
   "metadata": {},
   "source": [
    "### Настраиваем подсчёт метрик\n",
    "\n",
    "Чтобы не переобучиться на тестовую выборку, будем считать по умолчанию метрики только для тренировочной и валидационной выборок."
   ]
  },
  {
   "cell_type": "code",
   "execution_count": 17,
   "id": "152c96eb",
   "metadata": {},
   "outputs": [],
   "source": [
    "def calc_metrics_on_set(model, split_df, prefix):\n",
    "    preds = split_df.smiles.apply(model)\n",
    "    targets = split_df.expt\n",
    "    return {\n",
    "        f'{prefix}-R2': metrics.r2_score(targets, preds),\n",
    "        f'{prefix}-RMSE': metrics.mean_squared_error(targets, preds) ** 0.5\n",
    "    }\n",
    "\n",
    "def calc_metrics(model, include_test=False):\n",
    "    ans = calc_metrics_on_set(model, train_df, 'train')\n",
    "    ans.update(calc_metrics_on_set(model, dev_df, 'dev'))\n",
    "    if include_test:\n",
    "        ans.update(calc_metrics_on_set(model, test_df, 'test'))\n",
    "    return ans"
   ]
  },
  {
   "cell_type": "markdown",
   "id": "ccea4fb5",
   "metadata": {},
   "source": [
    "### Протестируем подсчёт метрик для константы -5 (взята из распределения ответов в тренировочной выборке)"
   ]
  },
  {
   "cell_type": "code",
   "execution_count": 18,
   "id": "83ae0395",
   "metadata": {},
   "outputs": [
    {
     "data": {
      "text/plain": [
       "{'train-R2': -0.10212040813115353,\n",
       " 'train-RMSE': 3.947276577947446,\n",
       " 'dev-R2': -0.10083154805353023,\n",
       " 'dev-RMSE': 3.8892607563352226}"
      ]
     },
     "execution_count": 18,
     "metadata": {},
     "output_type": "execute_result"
    }
   ],
   "source": [
    "calc_metrics(lambda x: -5)"
   ]
  },
  {
   "cell_type": "markdown",
   "id": "dfa8269a",
   "metadata": {},
   "source": [
    "### Ещё протестируем подсчёт метрик для среднего значения ответа для тренирочной выборки"
   ]
  },
  {
   "cell_type": "code",
   "execution_count": 19,
   "id": "a887e8cf",
   "metadata": {},
   "outputs": [
    {
     "data": {
      "text/plain": [
       "-3.79845703125"
      ]
     },
     "execution_count": 19,
     "metadata": {},
     "output_type": "execute_result"
    }
   ],
   "source": [
    "train_df.expt.mean()"
   ]
  },
  {
   "cell_type": "code",
   "execution_count": 20,
   "id": "1718667c",
   "metadata": {},
   "outputs": [
    {
     "data": {
      "text/plain": [
       "{'train-R2': 0.0,\n",
       " 'train-RMSE': 3.7599583610806033,\n",
       " 'dev-R2': -4.356265177341001e-05,\n",
       " 'dev-RMSE': 3.706944528222653}"
      ]
     },
     "execution_count": 20,
     "metadata": {},
     "output_type": "execute_result"
    }
   ],
   "source": [
    "calc_metrics(lambda x: train_df.expt.mean())"
   ]
  },
  {
   "cell_type": "markdown",
   "id": "8b05317f",
   "metadata": {},
   "source": [
    "### Всё правдоподобно, для тренировочной выборки коэффициент детерминации должен быть равен нулю.\n",
    "\n",
    "### Посмотрим для этой константы метрики на тестовой выборке, возьмём их в качестве бейзлайна."
   ]
  },
  {
   "cell_type": "code",
   "execution_count": 21,
   "id": "ebd431da",
   "metadata": {},
   "outputs": [
    {
     "data": {
      "text/plain": [
       "{'train-R2': 0.0,\n",
       " 'train-RMSE': 3.7599583610806033,\n",
       " 'dev-R2': -4.356265177341001e-05,\n",
       " 'dev-RMSE': 3.706944528222653,\n",
       " 'test-R2': -2.0034199601282054e-05,\n",
       " 'test-RMSE': 4.572485017769191}"
      ]
     },
     "execution_count": 21,
     "metadata": {},
     "output_type": "execute_result"
    }
   ],
   "source": [
    "calc_metrics(lambda x: train_df.expt.mean(), include_test=True)"
   ]
  },
  {
   "cell_type": "markdown",
   "id": "f339bda5",
   "metadata": {},
   "source": [
    "### Заметим, что метрики (особенно $R^2$) на train/dev/test похожи, но полностью не совпадают"
   ]
  },
  {
   "cell_type": "markdown",
   "id": "e77f1bfc",
   "metadata": {},
   "source": [
    "## Моделирование"
   ]
  },
  {
   "cell_type": "markdown",
   "id": "066a1b54",
   "metadata": {},
   "source": [
    "### Смотрим данные внимательнее"
   ]
  },
  {
   "cell_type": "code",
   "execution_count": 22,
   "id": "467a902f",
   "metadata": {},
   "outputs": [
    {
     "data": {
      "text/html": [
       "<div>\n",
       "<style scoped>\n",
       "    .dataframe tbody tr th:only-of-type {\n",
       "        vertical-align: middle;\n",
       "    }\n",
       "\n",
       "    .dataframe tbody tr th {\n",
       "        vertical-align: top;\n",
       "    }\n",
       "\n",
       "    .dataframe thead th {\n",
       "        text-align: right;\n",
       "    }\n",
       "</style>\n",
       "<table border=\"1\" class=\"dataframe\">\n",
       "  <thead>\n",
       "    <tr style=\"text-align: right;\">\n",
       "      <th></th>\n",
       "      <th>iupac</th>\n",
       "      <th>smiles</th>\n",
       "      <th>expt</th>\n",
       "      <th>calc</th>\n",
       "    </tr>\n",
       "  </thead>\n",
       "  <tbody>\n",
       "    <tr>\n",
       "      <th>286</th>\n",
       "      <td>methane</td>\n",
       "      <td>C</td>\n",
       "      <td>2.00</td>\n",
       "      <td>2.446</td>\n",
       "    </tr>\n",
       "    <tr>\n",
       "      <th>267</th>\n",
       "      <td>(1R)-2,2,2-trichloro-1-dimethoxyphosphoryl-eth...</td>\n",
       "      <td>COP(=O)([C@H](C(Cl)(Cl)Cl)O)OC</td>\n",
       "      <td>-12.74</td>\n",
       "      <td>-13.424</td>\n",
       "    </tr>\n",
       "    <tr>\n",
       "      <th>362</th>\n",
       "      <td>(2R,3R,4S,5S,6R)-6-(hydroxymethyl)tetrahydropy...</td>\n",
       "      <td>C([C@@H]1[C@H]([C@@H]([C@H]([C@@H](O1)O)O)O)O)O</td>\n",
       "      <td>-25.47</td>\n",
       "      <td>-18.095</td>\n",
       "    </tr>\n",
       "    <tr>\n",
       "      <th>224</th>\n",
       "      <td>methyl 2,2,2-trifluoroacetate</td>\n",
       "      <td>COC(=O)C(F)(F)F</td>\n",
       "      <td>-1.10</td>\n",
       "      <td>-1.353</td>\n",
       "    </tr>\n",
       "    <tr>\n",
       "      <th>318</th>\n",
       "      <td>3,5,5-trimethylcyclohex-2-en-1-one</td>\n",
       "      <td>CC1=CC(=O)CC(C1)(C)C</td>\n",
       "      <td>-5.18</td>\n",
       "      <td>-4.088</td>\n",
       "    </tr>\n",
       "    <tr>\n",
       "      <th>331</th>\n",
       "      <td>1,2-dimethoxybenzene</td>\n",
       "      <td>COc1ccccc1OC</td>\n",
       "      <td>-5.33</td>\n",
       "      <td>-4.055</td>\n",
       "    </tr>\n",
       "    <tr>\n",
       "      <th>617</th>\n",
       "      <td>2,2,2-trifluoroethanol</td>\n",
       "      <td>C(C(F)(F)F)O</td>\n",
       "      <td>-4.31</td>\n",
       "      <td>-3.809</td>\n",
       "    </tr>\n",
       "    <tr>\n",
       "      <th>1</th>\n",
       "      <td>methanesulfonyl chloride</td>\n",
       "      <td>CS(=O)(=O)Cl</td>\n",
       "      <td>-4.87</td>\n",
       "      <td>-6.219</td>\n",
       "    </tr>\n",
       "    <tr>\n",
       "      <th>235</th>\n",
       "      <td>propane</td>\n",
       "      <td>CCC</td>\n",
       "      <td>2.00</td>\n",
       "      <td>2.495</td>\n",
       "    </tr>\n",
       "    <tr>\n",
       "      <th>431</th>\n",
       "      <td>2,3,7,8-tetrachlorodibenzo-p-dioxin</td>\n",
       "      <td>c1c2c(cc(c1Cl)Cl)Oc3cc(c(cc3O2)Cl)Cl</td>\n",
       "      <td>-3.37</td>\n",
       "      <td>-2.540</td>\n",
       "    </tr>\n",
       "    <tr>\n",
       "      <th>182</th>\n",
       "      <td>2-methoxypropane</td>\n",
       "      <td>CC(C)OC</td>\n",
       "      <td>-2.01</td>\n",
       "      <td>-0.657</td>\n",
       "    </tr>\n",
       "    <tr>\n",
       "      <th>523</th>\n",
       "      <td>morpholine</td>\n",
       "      <td>C1COCCN1</td>\n",
       "      <td>-7.17</td>\n",
       "      <td>-6.116</td>\n",
       "    </tr>\n",
       "    <tr>\n",
       "      <th>564</th>\n",
       "      <td>1,1,1-trifluoropropan-2-ol</td>\n",
       "      <td>C[C@@H](C(F)(F)F)O</td>\n",
       "      <td>-4.16</td>\n",
       "      <td>-3.518</td>\n",
       "    </tr>\n",
       "    <tr>\n",
       "      <th>48</th>\n",
       "      <td>N-propylpropan-1-amine</td>\n",
       "      <td>CCCNCCC</td>\n",
       "      <td>-3.65</td>\n",
       "      <td>-2.233</td>\n",
       "    </tr>\n",
       "    <tr>\n",
       "      <th>636</th>\n",
       "      <td>diazinon</td>\n",
       "      <td>CCOP(=S)(OCC)Oc1cc(nc(n1)C(C)C)C</td>\n",
       "      <td>-6.48</td>\n",
       "      <td>-10.753</td>\n",
       "    </tr>\n",
       "    <tr>\n",
       "      <th>458</th>\n",
       "      <td>1,2,3,4-tetrachloro-5-(2,3,4,6-tetrachlorophen...</td>\n",
       "      <td>c1c(c(c(c(c1Cl)Cl)Cl)Cl)c2c(cc(c(c2Cl)Cl)Cl)Cl</td>\n",
       "      <td>-4.61</td>\n",
       "      <td>-0.039</td>\n",
       "    </tr>\n",
       "    <tr>\n",
       "      <th>498</th>\n",
       "      <td>2-isopropoxypropane</td>\n",
       "      <td>CC(C)OC(C)C</td>\n",
       "      <td>-0.53</td>\n",
       "      <td>-0.178</td>\n",
       "    </tr>\n",
       "    <tr>\n",
       "      <th>641</th>\n",
       "      <td>1,4-dioxane</td>\n",
       "      <td>C1COCCO1</td>\n",
       "      <td>-5.06</td>\n",
       "      <td>-4.269</td>\n",
       "    </tr>\n",
       "    <tr>\n",
       "      <th>438</th>\n",
       "      <td>but-1-ene</td>\n",
       "      <td>CCC=C</td>\n",
       "      <td>1.38</td>\n",
       "      <td>2.367</td>\n",
       "    </tr>\n",
       "    <tr>\n",
       "      <th>124</th>\n",
       "      <td>4-chlorophenol</td>\n",
       "      <td>c1cc(ccc1O)Cl</td>\n",
       "      <td>-7.03</td>\n",
       "      <td>-5.373</td>\n",
       "    </tr>\n",
       "    <tr>\n",
       "      <th>353</th>\n",
       "      <td>bromomethane</td>\n",
       "      <td>CBr</td>\n",
       "      <td>-0.82</td>\n",
       "      <td>0.460</td>\n",
       "    </tr>\n",
       "    <tr>\n",
       "      <th>595</th>\n",
       "      <td>4-(1-Methylethenyl)-1-cyclohexene-1-carboxalde...</td>\n",
       "      <td>CC(=C)[C@H]1CCC(=CC1)C=O</td>\n",
       "      <td>-4.09</td>\n",
       "      <td>-3.591</td>\n",
       "    </tr>\n",
       "    <tr>\n",
       "      <th>349</th>\n",
       "      <td>pyridine-4-carbaldehyde</td>\n",
       "      <td>c1cnccc1C=O</td>\n",
       "      <td>-7.00</td>\n",
       "      <td>-7.338</td>\n",
       "    </tr>\n",
       "    <tr>\n",
       "      <th>249</th>\n",
       "      <td>butan-1-amine</td>\n",
       "      <td>CCCCN</td>\n",
       "      <td>-4.24</td>\n",
       "      <td>-2.961</td>\n",
       "    </tr>\n",
       "    <tr>\n",
       "      <th>292</th>\n",
       "      <td>2,5-dimethyltetrahydrofuran</td>\n",
       "      <td>C[C@H]1CC[C@@H](O1)C</td>\n",
       "      <td>-2.92</td>\n",
       "      <td>-1.787</td>\n",
       "    </tr>\n",
       "    <tr>\n",
       "      <th>225</th>\n",
       "      <td>naphthalene</td>\n",
       "      <td>c1ccc2ccccc2c1</td>\n",
       "      <td>-2.40</td>\n",
       "      <td>-3.213</td>\n",
       "    </tr>\n",
       "    <tr>\n",
       "      <th>366</th>\n",
       "      <td>2-methylaniline</td>\n",
       "      <td>Cc1ccccc1N</td>\n",
       "      <td>-5.53</td>\n",
       "      <td>-5.325</td>\n",
       "    </tr>\n",
       "    <tr>\n",
       "      <th>114</th>\n",
       "      <td>benzyl bromide</td>\n",
       "      <td>c1ccc(cc1)CBr</td>\n",
       "      <td>-2.38</td>\n",
       "      <td>-1.853</td>\n",
       "    </tr>\n",
       "    <tr>\n",
       "      <th>186</th>\n",
       "      <td>N-methylaniline</td>\n",
       "      <td>CNc1ccccc1</td>\n",
       "      <td>-4.69</td>\n",
       "      <td>-5.719</td>\n",
       "    </tr>\n",
       "    <tr>\n",
       "      <th>193</th>\n",
       "      <td>2,3-dimethylbuta-1,3-diene</td>\n",
       "      <td>CC(=C)C(=C)C</td>\n",
       "      <td>0.40</td>\n",
       "      <td>1.862</td>\n",
       "    </tr>\n",
       "    <tr>\n",
       "      <th>196</th>\n",
       "      <td>ethoxyethane</td>\n",
       "      <td>CCOCC</td>\n",
       "      <td>-1.59</td>\n",
       "      <td>-0.617</td>\n",
       "    </tr>\n",
       "    <tr>\n",
       "      <th>238</th>\n",
       "      <td>3-hydroxybenzaldehyde</td>\n",
       "      <td>c1cc(cc(c1)O)C=O</td>\n",
       "      <td>-9.52</td>\n",
       "      <td>-9.369</td>\n",
       "    </tr>\n",
       "    <tr>\n",
       "      <th>160</th>\n",
       "      <td>cyclohexene</td>\n",
       "      <td>C1CCC=CC1</td>\n",
       "      <td>0.14</td>\n",
       "      <td>1.175</td>\n",
       "    </tr>\n",
       "    <tr>\n",
       "      <th>585</th>\n",
       "      <td>pebulate</td>\n",
       "      <td>CCCCN(CC)C(=O)SCCC</td>\n",
       "      <td>-3.64</td>\n",
       "      <td>-4.573</td>\n",
       "    </tr>\n",
       "    <tr>\n",
       "      <th>489</th>\n",
       "      <td>1,2,3-trichloro-5-(2,5-dichlorophenyl)benzene</td>\n",
       "      <td>c1cc(c(cc1Cl)c2cc(c(c(c2)Cl)Cl)Cl)Cl</td>\n",
       "      <td>-3.61</td>\n",
       "      <td>-0.922</td>\n",
       "    </tr>\n",
       "    <tr>\n",
       "      <th>390</th>\n",
       "      <td>naphthalen-1-amine</td>\n",
       "      <td>c1ccc2c(c1)cccc2N</td>\n",
       "      <td>-7.28</td>\n",
       "      <td>-7.777</td>\n",
       "    </tr>\n",
       "    <tr>\n",
       "      <th>156</th>\n",
       "      <td>2-chlorodibenzo-p-dioxin</td>\n",
       "      <td>c1ccc2c(c1)Oc3ccc(cc3O2)Cl</td>\n",
       "      <td>-3.10</td>\n",
       "      <td>-4.054</td>\n",
       "    </tr>\n",
       "    <tr>\n",
       "      <th>22</th>\n",
       "      <td>cycloheptanol</td>\n",
       "      <td>C1CCCC(CC1)O</td>\n",
       "      <td>-5.48</td>\n",
       "      <td>-4.345</td>\n",
       "    </tr>\n",
       "    <tr>\n",
       "      <th>368</th>\n",
       "      <td>nonan-1-ol</td>\n",
       "      <td>CCCCCCCCCO</td>\n",
       "      <td>-3.88</td>\n",
       "      <td>-2.564</td>\n",
       "    </tr>\n",
       "    <tr>\n",
       "      <th>601</th>\n",
       "      <td>2,2-dimethylbutane</td>\n",
       "      <td>CCC(C)(C)C</td>\n",
       "      <td>2.51</td>\n",
       "      <td>2.495</td>\n",
       "    </tr>\n",
       "    <tr>\n",
       "      <th>171</th>\n",
       "      <td>cyanuric acid</td>\n",
       "      <td>c1(=O)[nH]c(=O)[nH]c(=O)[nH]1</td>\n",
       "      <td>-18.06</td>\n",
       "      <td>-21.762</td>\n",
       "    </tr>\n",
       "    <tr>\n",
       "      <th>195</th>\n",
       "      <td>hydrogen sulfide</td>\n",
       "      <td>S</td>\n",
       "      <td>-0.70</td>\n",
       "      <td>-1.135</td>\n",
       "    </tr>\n",
       "    <tr>\n",
       "      <th>350</th>\n",
       "      <td>1-chloro-2-(2-chloroethoxy)ethane</td>\n",
       "      <td>C(CCl)OCCCl</td>\n",
       "      <td>-4.23</td>\n",
       "      <td>-2.248</td>\n",
       "    </tr>\n",
       "    <tr>\n",
       "      <th>480</th>\n",
       "      <td>2,3-dimethylpyridine</td>\n",
       "      <td>Cc1cccnc1C</td>\n",
       "      <td>-4.82</td>\n",
       "      <td>-3.367</td>\n",
       "    </tr>\n",
       "    <tr>\n",
       "      <th>524</th>\n",
       "      <td>1,1-diethoxyethane</td>\n",
       "      <td>CCOC(C)OCC</td>\n",
       "      <td>-3.28</td>\n",
       "      <td>-1.795</td>\n",
       "    </tr>\n",
       "    <tr>\n",
       "      <th>51</th>\n",
       "      <td>2-methylbutan-1-ol</td>\n",
       "      <td>CC[C@@H](C)CO</td>\n",
       "      <td>-4.42</td>\n",
       "      <td>-2.995</td>\n",
       "    </tr>\n",
       "    <tr>\n",
       "      <th>304</th>\n",
       "      <td>2,3-dimethylnaphthalene</td>\n",
       "      <td>Cc1cc2ccccc2cc1C</td>\n",
       "      <td>-2.78</td>\n",
       "      <td>-2.953</td>\n",
       "    </tr>\n",
       "    <tr>\n",
       "      <th>572</th>\n",
       "      <td>pentan-1-ol</td>\n",
       "      <td>CCCCCO</td>\n",
       "      <td>-4.57</td>\n",
       "      <td>-3.054</td>\n",
       "    </tr>\n",
       "    <tr>\n",
       "      <th>57</th>\n",
       "      <td>2-methylpyridine</td>\n",
       "      <td>Cc1ccccn1</td>\n",
       "      <td>-4.63</td>\n",
       "      <td>-3.501</td>\n",
       "    </tr>\n",
       "    <tr>\n",
       "      <th>408</th>\n",
       "      <td>methylsulfanylmethane</td>\n",
       "      <td>CSC</td>\n",
       "      <td>-1.61</td>\n",
       "      <td>0.440</td>\n",
       "    </tr>\n",
       "  </tbody>\n",
       "</table>\n",
       "</div>"
      ],
      "text/plain": [
       "                                                 iupac  \\\n",
       "286                                            methane   \n",
       "267  (1R)-2,2,2-trichloro-1-dimethoxyphosphoryl-eth...   \n",
       "362  (2R,3R,4S,5S,6R)-6-(hydroxymethyl)tetrahydropy...   \n",
       "224                      methyl 2,2,2-trifluoroacetate   \n",
       "318                 3,5,5-trimethylcyclohex-2-en-1-one   \n",
       "331                               1,2-dimethoxybenzene   \n",
       "617                             2,2,2-trifluoroethanol   \n",
       "1                             methanesulfonyl chloride   \n",
       "235                                            propane   \n",
       "431                2,3,7,8-tetrachlorodibenzo-p-dioxin   \n",
       "182                                   2-methoxypropane   \n",
       "523                                         morpholine   \n",
       "564                         1,1,1-trifluoropropan-2-ol   \n",
       "48                              N-propylpropan-1-amine   \n",
       "636                                           diazinon   \n",
       "458  1,2,3,4-tetrachloro-5-(2,3,4,6-tetrachlorophen...   \n",
       "498                                2-isopropoxypropane   \n",
       "641                                        1,4-dioxane   \n",
       "438                                          but-1-ene   \n",
       "124                                     4-chlorophenol   \n",
       "353                                       bromomethane   \n",
       "595  4-(1-Methylethenyl)-1-cyclohexene-1-carboxalde...   \n",
       "349                            pyridine-4-carbaldehyde   \n",
       "249                                      butan-1-amine   \n",
       "292                        2,5-dimethyltetrahydrofuran   \n",
       "225                                        naphthalene   \n",
       "366                                    2-methylaniline   \n",
       "114                                     benzyl bromide   \n",
       "186                                    N-methylaniline   \n",
       "193                         2,3-dimethylbuta-1,3-diene   \n",
       "196                                       ethoxyethane   \n",
       "238                              3-hydroxybenzaldehyde   \n",
       "160                                        cyclohexene   \n",
       "585                                           pebulate   \n",
       "489      1,2,3-trichloro-5-(2,5-dichlorophenyl)benzene   \n",
       "390                                 naphthalen-1-amine   \n",
       "156                           2-chlorodibenzo-p-dioxin   \n",
       "22                                       cycloheptanol   \n",
       "368                                         nonan-1-ol   \n",
       "601                                 2,2-dimethylbutane   \n",
       "171                                      cyanuric acid   \n",
       "195                                   hydrogen sulfide   \n",
       "350                  1-chloro-2-(2-chloroethoxy)ethane   \n",
       "480                               2,3-dimethylpyridine   \n",
       "524                                 1,1-diethoxyethane   \n",
       "51                                  2-methylbutan-1-ol   \n",
       "304                            2,3-dimethylnaphthalene   \n",
       "572                                        pentan-1-ol   \n",
       "57                                    2-methylpyridine   \n",
       "408                              methylsulfanylmethane   \n",
       "\n",
       "                                              smiles   expt    calc  \n",
       "286                                                C   2.00   2.446  \n",
       "267                   COP(=O)([C@H](C(Cl)(Cl)Cl)O)OC -12.74 -13.424  \n",
       "362  C([C@@H]1[C@H]([C@@H]([C@H]([C@@H](O1)O)O)O)O)O -25.47 -18.095  \n",
       "224                                  COC(=O)C(F)(F)F  -1.10  -1.353  \n",
       "318                             CC1=CC(=O)CC(C1)(C)C  -5.18  -4.088  \n",
       "331                                     COc1ccccc1OC  -5.33  -4.055  \n",
       "617                                     C(C(F)(F)F)O  -4.31  -3.809  \n",
       "1                                       CS(=O)(=O)Cl  -4.87  -6.219  \n",
       "235                                              CCC   2.00   2.495  \n",
       "431             c1c2c(cc(c1Cl)Cl)Oc3cc(c(cc3O2)Cl)Cl  -3.37  -2.540  \n",
       "182                                          CC(C)OC  -2.01  -0.657  \n",
       "523                                         C1COCCN1  -7.17  -6.116  \n",
       "564                               C[C@@H](C(F)(F)F)O  -4.16  -3.518  \n",
       "48                                           CCCNCCC  -3.65  -2.233  \n",
       "636                 CCOP(=S)(OCC)Oc1cc(nc(n1)C(C)C)C  -6.48 -10.753  \n",
       "458   c1c(c(c(c(c1Cl)Cl)Cl)Cl)c2c(cc(c(c2Cl)Cl)Cl)Cl  -4.61  -0.039  \n",
       "498                                      CC(C)OC(C)C  -0.53  -0.178  \n",
       "641                                         C1COCCO1  -5.06  -4.269  \n",
       "438                                            CCC=C   1.38   2.367  \n",
       "124                                    c1cc(ccc1O)Cl  -7.03  -5.373  \n",
       "353                                              CBr  -0.82   0.460  \n",
       "595                         CC(=C)[C@H]1CCC(=CC1)C=O  -4.09  -3.591  \n",
       "349                                      c1cnccc1C=O  -7.00  -7.338  \n",
       "249                                            CCCCN  -4.24  -2.961  \n",
       "292                             C[C@H]1CC[C@@H](O1)C  -2.92  -1.787  \n",
       "225                                   c1ccc2ccccc2c1  -2.40  -3.213  \n",
       "366                                       Cc1ccccc1N  -5.53  -5.325  \n",
       "114                                    c1ccc(cc1)CBr  -2.38  -1.853  \n",
       "186                                       CNc1ccccc1  -4.69  -5.719  \n",
       "193                                     CC(=C)C(=C)C   0.40   1.862  \n",
       "196                                            CCOCC  -1.59  -0.617  \n",
       "238                                 c1cc(cc(c1)O)C=O  -9.52  -9.369  \n",
       "160                                        C1CCC=CC1   0.14   1.175  \n",
       "585                               CCCCN(CC)C(=O)SCCC  -3.64  -4.573  \n",
       "489             c1cc(c(cc1Cl)c2cc(c(c(c2)Cl)Cl)Cl)Cl  -3.61  -0.922  \n",
       "390                                c1ccc2c(c1)cccc2N  -7.28  -7.777  \n",
       "156                       c1ccc2c(c1)Oc3ccc(cc3O2)Cl  -3.10  -4.054  \n",
       "22                                      C1CCCC(CC1)O  -5.48  -4.345  \n",
       "368                                       CCCCCCCCCO  -3.88  -2.564  \n",
       "601                                       CCC(C)(C)C   2.51   2.495  \n",
       "171                    c1(=O)[nH]c(=O)[nH]c(=O)[nH]1 -18.06 -21.762  \n",
       "195                                                S  -0.70  -1.135  \n",
       "350                                      C(CCl)OCCCl  -4.23  -2.248  \n",
       "480                                       Cc1cccnc1C  -4.82  -3.367  \n",
       "524                                       CCOC(C)OCC  -3.28  -1.795  \n",
       "51                                     CC[C@@H](C)CO  -4.42  -2.995  \n",
       "304                                 Cc1cc2ccccc2cc1C  -2.78  -2.953  \n",
       "572                                           CCCCCO  -4.57  -3.054  \n",
       "57                                         Cc1ccccn1  -4.63  -3.501  \n",
       "408                                              CSC  -1.61   0.440  "
      ]
     },
     "execution_count": 22,
     "metadata": {},
     "output_type": "execute_result"
    }
   ],
   "source": [
    "train_df.head(n=50)"
   ]
  },
  {
   "cell_type": "markdown",
   "id": "c2bfc4a9",
   "metadata": {},
   "source": [
    "### Ничего не понятно :)\n",
    "\n",
    "### Попробуем мешок символов (по аналогии с мешком слов) в качестве признаков с линейной регрессией"
   ]
  },
  {
   "cell_type": "markdown",
   "id": "f55911b8",
   "metadata": {},
   "source": [
    "#### Учим модель для извлечения признаков"
   ]
  },
  {
   "cell_type": "code",
   "execution_count": 23,
   "id": "de560a23",
   "metadata": {},
   "outputs": [],
   "source": [
    "to1gram = sk_text.CountVectorizer(analyzer='char', lowercase=False)"
   ]
  },
  {
   "cell_type": "code",
   "execution_count": 24,
   "id": "6058e425",
   "metadata": {},
   "outputs": [
    {
     "data": {
      "text/plain": [
       "CountVectorizer(analyzer='char', lowercase=False)"
      ]
     },
     "execution_count": 24,
     "metadata": {},
     "output_type": "execute_result"
    }
   ],
   "source": [
    "to1gram.fit(train_df.smiles)"
   ]
  },
  {
   "cell_type": "markdown",
   "id": "2aa5cba5",
   "metadata": {},
   "source": [
    "#### Проверяем её работу"
   ]
  },
  {
   "cell_type": "code",
   "execution_count": 25,
   "id": "2a9f7477",
   "metadata": {},
   "outputs": [
    {
     "data": {
      "text/plain": [
       "'CN(C)C(=O)c1ccc(cc1)OC'"
      ]
     },
     "execution_count": 25,
     "metadata": {},
     "output_type": "execute_result"
    }
   ],
   "source": [
    "train_df.smiles[0]"
   ]
  },
  {
   "cell_type": "code",
   "execution_count": 26,
   "id": "0f06b465",
   "metadata": {},
   "outputs": [
    {
     "data": {
      "text/plain": [
       "array([[0, 3, 3, 0, 0, 0, 2, 0, 0, 0, 0, 1, 0, 0, 4, 0, 0, 0, 1, 2, 0, 0,\n",
       "        0, 0, 0, 6, 0, 0, 0, 0]])"
      ]
     },
     "execution_count": 26,
     "metadata": {},
     "output_type": "execute_result"
    }
   ],
   "source": [
    "to1gram.transform([train_df.smiles[0]]).toarray()"
   ]
  },
  {
   "cell_type": "markdown",
   "id": "87d2680f",
   "metadata": {},
   "source": [
    "#### Смотрим словарь символ -> индекс в векторе"
   ]
  },
  {
   "cell_type": "code",
   "execution_count": 27,
   "id": "2191cbf3",
   "metadata": {},
   "outputs": [
    {
     "data": {
      "text/plain": [
       "({'C': 14,\n",
       "  'O': 19,\n",
       "  'P': 20,\n",
       "  '(': 1,\n",
       "  '=': 11,\n",
       "  ')': 2,\n",
       "  '[': 22,\n",
       "  '@': 12,\n",
       "  'H': 16,\n",
       "  ']': 24,\n",
       "  'l': 26,\n",
       "  '1': 6,\n",
       "  'F': 15,\n",
       "  'c': 25,\n",
       "  'S': 21,\n",
       "  '2': 7,\n",
       "  '3': 8,\n",
       "  'N': 18,\n",
       "  'n': 27,\n",
       "  'B': 13,\n",
       "  'r': 28,\n",
       "  'I': 17,\n",
       "  '+': 3,\n",
       "  '-': 4,\n",
       "  '4': 9,\n",
       "  's': 29,\n",
       "  '/': 5,\n",
       "  '#': 0,\n",
       "  '5': 10,\n",
       "  '\\\\': 23},\n",
       " 30)"
      ]
     },
     "execution_count": 27,
     "metadata": {},
     "output_type": "execute_result"
    }
   ],
   "source": [
    "to1gram.vocabulary_, len(to1gram.vocabulary_)"
   ]
  },
  {
   "cell_type": "markdown",
   "id": "e09abaf3",
   "metadata": {},
   "source": [
    "#### В примере CN(C)C(=O)c1ccc(cc1)OC решёток нет, то есть первый элемент вектора действительно должен быть равен нулю, символов 'c' шесть штук, то есть на 26-м месте как раз число 6"
   ]
  },
  {
   "cell_type": "markdown",
   "id": "9b7559dd",
   "metadata": {},
   "source": [
    "#### Готовим данные для обучения линейной регрессии"
   ]
  },
  {
   "cell_type": "code",
   "execution_count": 28,
   "id": "d0660513",
   "metadata": {},
   "outputs": [],
   "source": [
    "X_train = to1gram.transform(train_df.smiles)\n",
    "y_train = train_df.expt"
   ]
  },
  {
   "cell_type": "markdown",
   "id": "e29f3df7",
   "metadata": {},
   "source": [
    "#### Учим модель линейной регрессии"
   ]
  },
  {
   "cell_type": "code",
   "execution_count": 29,
   "id": "8c6b8d93",
   "metadata": {},
   "outputs": [
    {
     "data": {
      "text/plain": [
       "0.39199740712758413"
      ]
     },
     "execution_count": 29,
     "metadata": {},
     "output_type": "execute_result"
    }
   ],
   "source": [
    "lr = linear_model.ElasticNet()\n",
    "lr.fit(X_train, y_train)\n",
    "lr.score(X_train, y_train)"
   ]
  },
  {
   "cell_type": "markdown",
   "id": "16eb91db",
   "metadata": {},
   "source": [
    "#### Считаем метрики полученной модели"
   ]
  },
  {
   "cell_type": "code",
   "execution_count": 30,
   "id": "c8751790",
   "metadata": {},
   "outputs": [],
   "source": [
    "def model(smiles):\n",
    "    vector = to1gram.transform([smiles])\n",
    "    result = lr.predict(vector)\n",
    "    return result"
   ]
  },
  {
   "cell_type": "code",
   "execution_count": 31,
   "id": "6264e8e4",
   "metadata": {},
   "outputs": [
    {
     "data": {
      "text/plain": [
       "{'train-R2': 0.39199740712758413,\n",
       " 'train-RMSE': 2.9318095227066885,\n",
       " 'dev-R2': 0.4097112997644019,\n",
       " 'dev-RMSE': 2.8479926405764164}"
      ]
     },
     "execution_count": 31,
     "metadata": {},
     "output_type": "execute_result"
    }
   ],
   "source": [
    "calc_metrics(model)"
   ]
  },
  {
   "cell_type": "markdown",
   "id": "6e83293a",
   "metadata": {},
   "source": [
    "#### Сильно лучше константы: на валидационном множестве $R^2$ равен 0.4097 по сравнению с нулём для константы"
   ]
  },
  {
   "cell_type": "markdown",
   "id": "8e56d647",
   "metadata": {},
   "source": [
    "### Пробуем в качестве признаков биграмы символов с линейной регрессией\n",
    "\n",
    "Дальше действия аналогичные, не буду комментировать все шаги"
   ]
  },
  {
   "cell_type": "code",
   "execution_count": 32,
   "id": "d790d9a8",
   "metadata": {},
   "outputs": [
    {
     "data": {
      "text/plain": [
       "CountVectorizer(analyzer='char', lowercase=False, ngram_range=(1, 2))"
      ]
     },
     "execution_count": 32,
     "metadata": {},
     "output_type": "execute_result"
    }
   ],
   "source": [
    "to2gram = sk_text.CountVectorizer(analyzer='char', lowercase=False, ngram_range=(1, 2))\n",
    "to2gram.fit(train_df.smiles)"
   ]
  },
  {
   "cell_type": "code",
   "execution_count": 33,
   "id": "414febd9",
   "metadata": {},
   "outputs": [
    {
     "data": {
      "text/plain": [
       "'CN(C)C(=O)c1ccc(cc1)OC'"
      ]
     },
     "execution_count": 33,
     "metadata": {},
     "output_type": "execute_result"
    }
   ],
   "source": [
    "train_df.smiles[0]"
   ]
  },
  {
   "cell_type": "code",
   "execution_count": 34,
   "id": "e6415641",
   "metadata": {},
   "outputs": [
    {
     "data": {
      "text/plain": [
       "array([[0, 0, 0, 3, 1, 1, 0, 0, 0, 0, 1, 0, 3, 0, 0, 0, 0, 1, 0, 0, 0, 1,\n",
       "        0, 0, 0, 1, 0, 0, 0, 0, 0, 0, 0, 0, 0, 2, 0, 1, 0, 0, 0, 0, 0, 0,\n",
       "        0, 1, 0, 0, 0, 0, 0, 0, 0, 0, 0, 0, 0, 0, 0, 0, 0, 0, 0, 0, 0, 0,\n",
       "        0, 0, 0, 0, 1, 0, 1, 0, 0, 0, 0, 0, 0, 0, 4, 0, 1, 1, 0, 0, 0, 0,\n",
       "        0, 0, 0, 0, 0, 0, 0, 1, 0, 0, 0, 0, 0, 0, 0, 0, 0, 0, 0, 0, 0, 1,\n",
       "        1, 0, 0, 0, 0, 0, 0, 2, 1, 0, 0, 0, 0, 0, 1, 0, 0, 0, 0, 0, 0, 0,\n",
       "        0, 0, 0, 0, 0, 0, 0, 0, 0, 0, 0, 0, 0, 0, 0, 0, 0, 0, 0, 0, 0, 0,\n",
       "        0, 6, 1, 0, 2, 0, 0, 0, 0, 3, 0, 0, 0, 0, 0, 0, 0, 0, 0, 0, 0, 0,\n",
       "        0, 0, 0, 0]])"
      ]
     },
     "execution_count": 34,
     "metadata": {},
     "output_type": "execute_result"
    }
   ],
   "source": [
    "to2gram.transform([train_df.smiles[0]]).toarray()"
   ]
  },
  {
   "cell_type": "code",
   "execution_count": 35,
   "id": "3dc92b32",
   "metadata": {},
   "outputs": [
    {
     "name": "stdout",
     "output_type": "stream",
     "text": [
      "{'C': 80, 'O': 117, 'P': 129, '(': 3, '=': 70, ')': 12, '[': 139, '@': 74, 'H': 105, ']': 146, 'l': 166, 'CO': 96, 'OP': 125, 'P(': 130, '(=': 4, '=O': 72, 'O)': 118, ')(': 13, '([': 9, '[C': 140, 'C@': 90, '@H': 76, 'H]': 106, '](': 147, '(C': 5, 'C(': 82, 'Cl': 101, 'l)': 167, ')C': 17, ')O': 21, 'OC': 124, '1': 35, '@@': 75, ']1': 149, '1[': 44, '(O': 8, 'O1': 121, '1)': 37, 'F': 103, '(F': 6, 'F)': 104, ')F': 18, 'CC': 92, 'C1': 85, '1=': 39, '=C': 71, 'C)': 83, 'c': 155, 'Oc': 128, 'c1': 158, '1c': 45, 'cc': 163, '1O': 43, 'S': 131, 'CS': 97, 'S(': 132, '2': 47, '3': 58, 'c2': 159, '2c': 56, 'c(': 156, '(c': 10, '1C': 41, 'c3': 160, '3c': 63, '3O': 61, 'O2': 122, '2)': 49, 'N': 109, 'CN': 95, 'N1': 113, 'C[': 98, 'NC': 115, 'n': 168, '=S': 73, 'S)': 133, '(n': 11, 'nc': 173, 'n1': 170, ')c': 25, '2C': 51, 'C=': 89, 'B': 78, 'r': 175, 'CB': 91, 'Br': 79, ')[': 23, 'cn': 164, 'Cc': 100, '1N': 42, 'Nc': 116, 'N(': 110, ')S': 22, 'SC': 134, '2N': 53, '1(': 36, '[n': 143, 'nH': 172, ']c': 154, 'I': 107, ')I': 19, '+': 27, '-': 29, 'O[': 127, '[N': 141, 'N+': 112, '+]': 28, '[O': 142, 'O-': 119, '-]': 31, '4': 64, 'c4': 161, '4c': 67, 'CI': 94, 's': 177, 'cs': 165, 's1': 178, '12': 38, '3C': 60, ')N': 20, '])': 148, ')B': 16, 'SP': 135, '/': 32, 'C/': 84, '/C': 33, ')n': 26, 'n(': 169, 'c-': 157, '-2': 30, 'c[': 162, '#': 0, 'C#': 81, '#N': 2, 'N)': 111, 'N@': 114, '@]': 77, '2[': 55, 'Cn': 102, '(I': 7, 'I)': 108, '5': 68, ']2': 150, ']3': 151, '3[': 62, ']4': 152, '4[': 66, '2O': 54, 'O4': 123, '4)': 65, ']5': 153, '5(': 69, '3(': 59, 'C5': 88, 'C2': 86, '2n': 57, 'nn': 174, ')/': 14, 'SS': 136, 'S[': 137, ')=': 15, 'sc': 179, 'r)': 176, '#C': 1, '\\\\': 144, 'C\\\\': 99, '\\\\C': 145, '2F': 52, 'n2': 171, 'C3': 87, 'CF': 93, '2(': 48, 'Sc': 138, 'OS': 126, '1n': 46, '1B': 40, ')\\\\': 24, '2=': 50, 'O/': 120, '/c': 34}\n"
     ]
    }
   ],
   "source": [
    "print(to2gram.vocabulary_)"
   ]
  },
  {
   "cell_type": "code",
   "execution_count": 36,
   "id": "8bff370e",
   "metadata": {},
   "outputs": [
    {
     "data": {
      "text/plain": [
       "0.4232407964283962"
      ]
     },
     "execution_count": 36,
     "metadata": {},
     "output_type": "execute_result"
    }
   ],
   "source": [
    "X_train = to2gram.transform(train_df.smiles)\n",
    "y_train = train_df.expt\n",
    "lr = linear_model.ElasticNet()\n",
    "lr.fit(X_train, y_train)\n",
    "lr.score(X_train, y_train)"
   ]
  },
  {
   "cell_type": "code",
   "execution_count": 37,
   "id": "ec6c4de5",
   "metadata": {},
   "outputs": [],
   "source": [
    "def model(smiles):\n",
    "    vector = to2gram.transform([smiles])\n",
    "    result = lr.predict(vector)\n",
    "    return result"
   ]
  },
  {
   "cell_type": "code",
   "execution_count": 38,
   "id": "37ceed63",
   "metadata": {},
   "outputs": [
    {
     "data": {
      "text/plain": [
       "{'train-R2': 0.4232407964283962,\n",
       " 'train-RMSE': 2.8554877551613447,\n",
       " 'dev-R2': 0.4219328254898328,\n",
       " 'dev-RMSE': 2.8183555598330754}"
      ]
     },
     "execution_count": 38,
     "metadata": {},
     "output_type": "execute_result"
    }
   ],
   "source": [
    "calc_metrics(model)"
   ]
  },
  {
   "cell_type": "markdown",
   "id": "fa1a46da",
   "metadata": {},
   "source": [
    "#### Метрика R^2 на train и dev стала чуть лучше: 0.4232 и 0.4219 против 0.392 и 0.4097"
   ]
  },
  {
   "cell_type": "markdown",
   "id": "b9c0a6c3",
   "metadata": {},
   "source": [
    "#### Посмотрим, как коррелируют длина входной строки и ответ"
   ]
  },
  {
   "cell_type": "code",
   "execution_count": 39,
   "id": "058a958c",
   "metadata": {},
   "outputs": [
    {
     "data": {
      "text/plain": [
       "expt   -0.333146\n",
       "calc   -0.368376\n",
       "dtype: float64"
      ]
     },
     "execution_count": 39,
     "metadata": {},
     "output_type": "execute_result"
    }
   ],
   "source": [
    "train_df.corrwith(train_df.smiles.apply(lambda sm: len(sm)))"
   ]
  },
  {
   "cell_type": "markdown",
   "id": "8101e617",
   "metadata": {},
   "source": [
    "#### Какая-то корреляция есть\n",
    "\n",
    "### Давайте в признаки добавм длину строки и опять обучить линейную модель"
   ]
  },
  {
   "cell_type": "code",
   "execution_count": 40,
   "id": "6090b14a",
   "metadata": {},
   "outputs": [],
   "source": [
    "X_train = np.hstack((\n",
    "        np.array([train_df.smiles.apply(lambda sm: len(sm)).tolist()]).T,\n",
    "        to2gram.transform(train_df.smiles).toarray()\n",
    "    )\n",
    ")\n",
    "y_train = train_df.expt"
   ]
  },
  {
   "cell_type": "code",
   "execution_count": 41,
   "id": "14dce998",
   "metadata": {},
   "outputs": [
    {
     "data": {
      "text/plain": [
       "(512, 181)"
      ]
     },
     "execution_count": 41,
     "metadata": {},
     "output_type": "execute_result"
    }
   ],
   "source": [
    "X_train.shape"
   ]
  },
  {
   "cell_type": "code",
   "execution_count": 42,
   "id": "bf4b5a2b",
   "metadata": {},
   "outputs": [
    {
     "data": {
      "text/plain": [
       "array([[ 1,  0,  0,  0,  0,  0,  0,  0,  0,  0,  0,  0,  0,  0,  0,  0,\n",
       "         0,  0,  0,  0,  0,  0,  0,  0,  0,  0,  0,  0,  0,  0,  0,  0,\n",
       "         0,  0,  0,  0,  0,  0,  0,  0,  0,  0,  0,  0,  0,  0,  0,  0,\n",
       "         0,  0,  0,  0,  0,  0,  0,  0,  0,  0,  0,  0,  0,  0,  0,  0,\n",
       "         0,  0,  0,  0,  0,  0,  0,  0,  0,  0,  0,  0,  0,  0,  0,  0,\n",
       "         0,  1,  0,  0,  0,  0,  0,  0,  0,  0,  0,  0,  0,  0,  0,  0,\n",
       "         0,  0,  0,  0,  0,  0,  0,  0,  0,  0,  0,  0,  0,  0,  0,  0,\n",
       "         0,  0,  0,  0,  0,  0,  0,  0,  0,  0,  0,  0,  0,  0,  0,  0,\n",
       "         0,  0,  0,  0,  0,  0,  0,  0,  0,  0,  0,  0,  0,  0,  0,  0,\n",
       "         0,  0,  0,  0,  0,  0,  0,  0,  0,  0,  0,  0,  0,  0,  0,  0,\n",
       "         0,  0,  0,  0,  0,  0,  0,  0,  0,  0,  0,  0,  0,  0,  0,  0,\n",
       "         0,  0,  0,  0,  0],\n",
       "       [30,  0,  0,  0,  5,  1,  3,  0,  0,  0,  1,  0,  0,  5,  2,  0,\n",
       "         0,  0,  1,  0,  0,  0,  2,  0,  0,  0,  0,  0,  0,  0,  0,  0,\n",
       "         0,  0,  0,  0,  0,  0,  0,  0,  0,  0,  0,  0,  0,  0,  0,  0,\n",
       "         0,  0,  0,  0,  0,  0,  0,  0,  0,  0,  0,  0,  0,  0,  0,  0,\n",
       "         0,  0,  0,  0,  0,  0,  0,  1,  0,  1,  0,  1,  0,  1,  0,  0,\n",
       "         0,  7,  0,  1,  0,  0,  0,  0,  0,  0,  0,  1,  0,  0,  0,  0,\n",
       "         0,  1,  0,  0,  0,  0,  3,  0,  0,  0,  1,  1,  0,  0,  0,  0,\n",
       "         0,  0,  0,  0,  0,  0,  4,  2,  0,  0,  0,  0,  0,  1,  1,  0,\n",
       "         0,  0,  1,  1,  0,  0,  0,  0,  0,  0,  0,  0,  1,  1,  0,  0,\n",
       "         0,  0,  0,  1,  1,  0,  0,  0,  0,  0,  0,  0,  0,  0,  0,  0,\n",
       "         0,  0,  0,  0,  0,  0,  0,  3,  3,  0,  0,  0,  0,  0,  0,  0,\n",
       "         0,  0,  0,  0,  0]])"
      ]
     },
     "execution_count": 42,
     "metadata": {},
     "output_type": "execute_result"
    }
   ],
   "source": [
    "X_train[:2]"
   ]
  },
  {
   "cell_type": "code",
   "execution_count": 43,
   "id": "2d8e64f7",
   "metadata": {},
   "outputs": [
    {
     "data": {
      "text/html": [
       "<div>\n",
       "<style scoped>\n",
       "    .dataframe tbody tr th:only-of-type {\n",
       "        vertical-align: middle;\n",
       "    }\n",
       "\n",
       "    .dataframe tbody tr th {\n",
       "        vertical-align: top;\n",
       "    }\n",
       "\n",
       "    .dataframe thead th {\n",
       "        text-align: right;\n",
       "    }\n",
       "</style>\n",
       "<table border=\"1\" class=\"dataframe\">\n",
       "  <thead>\n",
       "    <tr style=\"text-align: right;\">\n",
       "      <th></th>\n",
       "      <th>iupac</th>\n",
       "      <th>smiles</th>\n",
       "      <th>expt</th>\n",
       "      <th>calc</th>\n",
       "    </tr>\n",
       "  </thead>\n",
       "  <tbody>\n",
       "    <tr>\n",
       "      <th>286</th>\n",
       "      <td>methane</td>\n",
       "      <td>C</td>\n",
       "      <td>2.00</td>\n",
       "      <td>2.446</td>\n",
       "    </tr>\n",
       "    <tr>\n",
       "      <th>267</th>\n",
       "      <td>(1R)-2,2,2-trichloro-1-dimethoxyphosphoryl-eth...</td>\n",
       "      <td>COP(=O)([C@H](C(Cl)(Cl)Cl)O)OC</td>\n",
       "      <td>-12.74</td>\n",
       "      <td>-13.424</td>\n",
       "    </tr>\n",
       "  </tbody>\n",
       "</table>\n",
       "</div>"
      ],
      "text/plain": [
       "                                                 iupac  \\\n",
       "286                                            methane   \n",
       "267  (1R)-2,2,2-trichloro-1-dimethoxyphosphoryl-eth...   \n",
       "\n",
       "                             smiles   expt    calc  \n",
       "286                               C   2.00   2.446  \n",
       "267  COP(=O)([C@H](C(Cl)(Cl)Cl)O)OC -12.74 -13.424  "
      ]
     },
     "execution_count": 43,
     "metadata": {},
     "output_type": "execute_result"
    }
   ],
   "source": [
    "train_df.iloc[:2]"
   ]
  },
  {
   "cell_type": "code",
   "execution_count": 44,
   "id": "25f2bf3d",
   "metadata": {},
   "outputs": [
    {
     "data": {
      "text/plain": [
       "0.4069589323277878"
      ]
     },
     "execution_count": 44,
     "metadata": {},
     "output_type": "execute_result"
    }
   ],
   "source": [
    "lr = linear_model.ElasticNet()\n",
    "lr.fit(X_train, y_train)\n",
    "lr.score(X_train, y_train)"
   ]
  },
  {
   "cell_type": "code",
   "execution_count": 45,
   "id": "0b3a1412",
   "metadata": {},
   "outputs": [
    {
     "data": {
      "text/plain": [
       "array([[-1,  0,  3,  3,  0,  0,  0,  2,  0,  0,  0,  0,  1,  0,  0,  4,\n",
       "         0,  0,  0,  1,  2,  0,  0,  0,  0,  0,  6,  0,  0,  0,  0]])"
      ]
     },
     "execution_count": 45,
     "metadata": {},
     "output_type": "execute_result"
    }
   ],
   "source": [
    "np.hstack(([[-1]], to1gram.transform([train_df.smiles[0]]).toarray() ))"
   ]
  },
  {
   "cell_type": "code",
   "execution_count": 46,
   "id": "e71e96c3",
   "metadata": {},
   "outputs": [],
   "source": [
    "def model(smiles):\n",
    "    vector = np.hstack((\n",
    "        [[len(smiles)]],\n",
    "        to2gram.transform([smiles]).toarray()\n",
    "    ))\n",
    "    result = lr.predict(vector)\n",
    "    return result"
   ]
  },
  {
   "cell_type": "code",
   "execution_count": 47,
   "id": "6d3c6280",
   "metadata": {},
   "outputs": [
    {
     "data": {
      "text/plain": [
       "{'train-R2': 0.4069589323277878,\n",
       " 'train-RMSE': 2.895512338699316,\n",
       " 'dev-R2': 0.43242491946227657,\n",
       " 'dev-RMSE': 2.7926614341952916}"
      ]
     },
     "execution_count": 47,
     "metadata": {},
     "output_type": "execute_result"
    }
   ],
   "source": [
    "calc_metrics(model)"
   ]
  },
  {
   "cell_type": "markdown",
   "id": "648189aa",
   "metadata": {},
   "source": [
    "#### На train метрики чуть ухудшились, на dev'е улучшились, давайте будем считать, что из рассмотренных трёх моделей эта самая лучшая\n",
    "\n",
    "### И посчитаем её метрики на тестовой выборке"
   ]
  },
  {
   "cell_type": "code",
   "execution_count": 48,
   "id": "5fbccd15",
   "metadata": {},
   "outputs": [
    {
     "data": {
      "text/plain": [
       "{'train-R2': 0.4069589323277878,\n",
       " 'train-RMSE': 2.895512338699316,\n",
       " 'dev-R2': 0.43242491946227657,\n",
       " 'dev-RMSE': 2.7926614341952916,\n",
       " 'test-R2': 0.4924357803323661,\n",
       " 'test-RMSE': 3.2575676271796454}"
      ]
     },
     "execution_count": 48,
     "metadata": {},
     "output_type": "execute_result"
    }
   ],
   "source": [
    "calc_metrics(model, include_test=True)"
   ]
  },
  {
   "cell_type": "markdown",
   "id": "0998ddfc",
   "metadata": {},
   "source": [
    "### Веса модели"
   ]
  },
  {
   "cell_type": "code",
   "execution_count": 49,
   "id": "171420af",
   "metadata": {},
   "outputs": [
    {
     "data": {
      "text/plain": [
       "array([-0.1001849 , -0.        ,  0.        , -0.        ,  0.        ,\n",
       "       -0.        ,  0.        ,  0.        ,  0.        , -0.        ,\n",
       "       -0.        ,  0.        , -0.        ,  0.        ,  0.        ,\n",
       "       -0.        , -0.        ,  0.        ,  0.        ,  0.        ,\n",
       "        0.        , -0.        , -0.        , -0.        , -0.        ,\n",
       "        0.        , -0.        , -0.        ,  0.        ,  0.        ,\n",
       "        0.        ,  0.        ,  0.        , -0.        , -0.        ,\n",
       "       -0.        , -0.05104382,  0.        , -0.        ,  0.        ,\n",
       "       -0.        ,  0.        , -0.        , -0.        , -0.        ,\n",
       "       -0.        , -0.        , -0.        ,  0.        ,  0.        ,\n",
       "        0.        , -0.        ,  0.        , -0.        , -0.        ,\n",
       "       -0.        ,  0.        ,  0.        , -0.        ,  0.        ,\n",
       "        0.        ,  0.        ,  0.        ,  0.        ,  0.        ,\n",
       "        0.        ,  0.        ,  0.        ,  0.        ,  0.        ,\n",
       "        0.        , -0.        ,  0.        , -0.        ,  0.        ,\n",
       "       -0.        , -0.        , -0.        ,  0.        ,  0.        ,\n",
       "        0.        ,  0.35325303, -0.        ,  0.        ,  0.        ,\n",
       "       -0.        , -0.        ,  0.        ,  0.        ,  0.        ,\n",
       "        0.        , -0.        ,  0.        ,  0.        ,  0.        ,\n",
       "        0.        , -0.        , -0.        , -0.        ,  0.        ,\n",
       "        0.        , -0.        ,  0.01710226, -0.        ,  0.11855484,\n",
       "        0.00744987, -0.        , -0.        ,  0.        ,  0.        ,\n",
       "       -0.        , -0.        , -0.        ,  0.        , -0.        ,\n",
       "        0.        , -0.        , -0.        , -0.64919569, -0.33811453,\n",
       "        0.        , -0.        , -0.        ,  0.        ,  0.        ,\n",
       "       -0.        , -0.        ,  0.        ,  0.        ,  0.        ,\n",
       "       -0.        , -0.        , -0.        , -0.        ,  0.        ,\n",
       "       -0.        , -0.        ,  0.        ,  0.        ,  0.        ,\n",
       "       -0.        , -0.        ,  0.        ,  0.        , -0.        ,\n",
       "        0.        ,  0.        , -0.        ,  0.        ,  0.        ,\n",
       "       -0.        ,  0.        ,  0.        ,  0.        ,  0.        ,\n",
       "       -0.        , -0.        , -0.        ,  0.        , -0.        ,\n",
       "        0.        ,  0.        ,  0.        , -0.        ,  0.        ,\n",
       "       -0.        ,  0.        ,  0.01695199,  0.        , -0.11993428,\n",
       "       -0.        , -0.        , -0.        , -0.        , -0.        ,\n",
       "       -0.        ,  0.        ,  0.        ,  0.        ,  0.        ,\n",
       "        0.        ])"
      ]
     },
     "execution_count": 49,
     "metadata": {},
     "output_type": "execute_result"
    }
   ],
   "source": [
    "lr.coef_"
   ]
  },
  {
   "cell_type": "code",
   "execution_count": 50,
   "id": "f31def52",
   "metadata": {},
   "outputs": [
    {
     "data": {
      "text/plain": [
       "-2.8602568607487084"
      ]
     },
     "execution_count": 50,
     "metadata": {},
     "output_type": "execute_result"
    }
   ],
   "source": [
    "lr.intercept_"
   ]
  },
  {
   "cell_type": "markdown",
   "id": "9395fa8c",
   "metadata": {},
   "source": [
    "### В целом получилось неплохо, метрики даже лучше, чем на валидационной выборке"
   ]
  },
  {
   "cell_type": "markdown",
   "id": "e41bfda0",
   "metadata": {},
   "source": [
    "### Теперь давайте попробуем обучить модели случайного леса и catboost на тех же признаках (длина строки и биграмы символов)"
   ]
  },
  {
   "cell_type": "markdown",
   "id": "0d5cc3bf",
   "metadata": {},
   "source": [
    "### Случайный лес"
   ]
  },
  {
   "cell_type": "code",
   "execution_count": 51,
   "id": "141e0508",
   "metadata": {},
   "outputs": [
    {
     "data": {
      "text/plain": [
       "RandomForestRegressor()"
      ]
     },
     "execution_count": 51,
     "metadata": {},
     "output_type": "execute_result"
    }
   ],
   "source": [
    "rf = ensemble.RandomForestRegressor()\n",
    "rf.fit(X_train, y_train)"
   ]
  },
  {
   "cell_type": "code",
   "execution_count": 52,
   "id": "fcb83334",
   "metadata": {},
   "outputs": [],
   "source": [
    "def model(smiles):\n",
    "    vector = np.hstack((\n",
    "        [[len(smiles)]],\n",
    "        to2gram.transform([smiles]).toarray()\n",
    "    ))\n",
    "    result = rf.predict(vector)\n",
    "    return result"
   ]
  },
  {
   "cell_type": "code",
   "execution_count": 53,
   "id": "b3e45c0f",
   "metadata": {},
   "outputs": [
    {
     "data": {
      "text/plain": [
       "{'train-R2': 0.9753389298809939,\n",
       " 'train-RMSE': 0.5904579773088677,\n",
       " 'dev-R2': 0.8355802752778787,\n",
       " 'dev-RMSE': 1.5030851573192494}"
      ]
     },
     "execution_count": 53,
     "metadata": {},
     "output_type": "execute_result"
    }
   ],
   "source": [
    "calc_metrics(model)"
   ]
  },
  {
   "cell_type": "markdown",
   "id": "35563214",
   "metadata": {},
   "source": [
    "#### Выглядит неплохо - гораздо лучше линейной регрессии (R^2 0.8339 против 0.4324) на валидационной выборке"
   ]
  },
  {
   "cell_type": "markdown",
   "id": "5a493390",
   "metadata": {},
   "source": [
    "### Catboost"
   ]
  },
  {
   "cell_type": "code",
   "execution_count": 54,
   "id": "e69f078d",
   "metadata": {},
   "outputs": [],
   "source": [
    "cb_model = catboost.CatBoostRegressor(random_seed=42, silent=True)"
   ]
  },
  {
   "cell_type": "code",
   "execution_count": 55,
   "id": "afeb0471",
   "metadata": {},
   "outputs": [
    {
     "data": {
      "text/plain": [
       "<catboost.core.CatBoostRegressor at 0x7fed246989a0>"
      ]
     },
     "execution_count": 55,
     "metadata": {},
     "output_type": "execute_result"
    }
   ],
   "source": [
    "cb_model.fit(X_train, y_train)"
   ]
  },
  {
   "cell_type": "code",
   "execution_count": 56,
   "id": "9885f4d2",
   "metadata": {},
   "outputs": [
    {
     "data": {
      "text/plain": [
       "{'learn': {'RMSE': 0.4326126757576458}}"
      ]
     },
     "execution_count": 56,
     "metadata": {},
     "output_type": "execute_result"
    }
   ],
   "source": [
    "cb_model.best_score_"
   ]
  },
  {
   "cell_type": "code",
   "execution_count": 57,
   "id": "1ce6cfe8",
   "metadata": {},
   "outputs": [],
   "source": [
    "def model(smiles):\n",
    "    vector = np.hstack((\n",
    "        [[len(smiles)]],\n",
    "        to2gram.transform([smiles]).toarray()\n",
    "    ))\n",
    "    result = cb_model.predict(vector)\n",
    "    return result"
   ]
  },
  {
   "cell_type": "code",
   "execution_count": 58,
   "id": "f84da8b3",
   "metadata": {},
   "outputs": [
    {
     "data": {
      "text/plain": [
       "{'train-R2': 0.9867616945399479,\n",
       " 'train-RMSE': 0.4326126697808403,\n",
       " 'dev-R2': 0.8378724995168738,\n",
       " 'dev-RMSE': 1.4925709047125422}"
      ]
     },
     "execution_count": 58,
     "metadata": {},
     "output_type": "execute_result"
    }
   ],
   "source": [
    "calc_metrics(model)"
   ]
  },
  {
   "cell_type": "markdown",
   "id": "e9e7898b",
   "metadata": {},
   "source": [
    "#### Получается на уровне случайного леса, но чуть лучше\n",
    "\n",
    "### Поэтому возьмём катбустовую модель для подсчёта метрик на тестовой выборке"
   ]
  },
  {
   "cell_type": "code",
   "execution_count": 59,
   "id": "0afc5127",
   "metadata": {},
   "outputs": [
    {
     "data": {
      "text/plain": [
       "{'train-R2': 0.9867616945399479,\n",
       " 'train-RMSE': 0.4326126697808403,\n",
       " 'dev-R2': 0.8378724995168738,\n",
       " 'dev-RMSE': 1.4925709047125422,\n",
       " 'test-R2': 0.9444015327736895,\n",
       " 'test-RMSE': 1.0781504046509274}"
      ]
     },
     "execution_count": 59,
     "metadata": {},
     "output_type": "execute_result"
    }
   ],
   "source": [
    "calc_metrics(model, include_test=True)"
   ]
  },
  {
   "cell_type": "markdown",
   "id": "8fea81d5",
   "metadata": {},
   "source": [
    "### Сохраняем веса модели и проверяем, что она успешно подгружается"
   ]
  },
  {
   "cell_type": "code",
   "execution_count": 60,
   "id": "f4866305",
   "metadata": {},
   "outputs": [],
   "source": [
    "cb_model_path = 'cb_model.bin'"
   ]
  },
  {
   "cell_type": "code",
   "execution_count": 61,
   "id": "9e998917",
   "metadata": {},
   "outputs": [],
   "source": [
    "cb_model.save_model(cb_model_path, export_parameters=None, pool=None)"
   ]
  },
  {
   "cell_type": "code",
   "execution_count": 62,
   "id": "dc2689b6",
   "metadata": {},
   "outputs": [
    {
     "data": {
      "text/plain": [
       "<catboost.core.CatBoostRegressor at 0x7fed246b6370>"
      ]
     },
     "execution_count": 62,
     "metadata": {},
     "output_type": "execute_result"
    }
   ],
   "source": [
    "cb_model2 = catboost.CatBoostRegressor(random_seed=42)\n",
    "cb_model2.fit(X_train[:10], y_train[:10], silent=True)"
   ]
  },
  {
   "cell_type": "code",
   "execution_count": 63,
   "id": "5e39e85c",
   "metadata": {},
   "outputs": [
    {
     "data": {
      "text/plain": [
       "-2.5950305970158443"
      ]
     },
     "execution_count": 63,
     "metadata": {},
     "output_type": "execute_result"
    }
   ],
   "source": [
    "cb_model.predict(X_train[10])"
   ]
  },
  {
   "cell_type": "code",
   "execution_count": 64,
   "id": "bb0d7c22",
   "metadata": {},
   "outputs": [
    {
     "data": {
      "text/plain": [
       "-1.2119252158265077"
      ]
     },
     "execution_count": 64,
     "metadata": {},
     "output_type": "execute_result"
    }
   ],
   "source": [
    "cb_model2.predict(X_train[10])"
   ]
  },
  {
   "cell_type": "code",
   "execution_count": 65,
   "id": "0ba5f3df",
   "metadata": {},
   "outputs": [
    {
     "data": {
      "text/plain": [
       "-2.5950305970158443"
      ]
     },
     "execution_count": 65,
     "metadata": {},
     "output_type": "execute_result"
    }
   ],
   "source": [
    "cb_model2.load_model(cb_model_path)\n",
    "cb_model2.predict(X_train[10])"
   ]
  },
  {
   "cell_type": "markdown",
   "id": "2d9769c0",
   "metadata": {},
   "source": [
    "### Попробуем ещё посчитать метрики для колонки calc"
   ]
  },
  {
   "cell_type": "code",
   "execution_count": 66,
   "id": "20cd7f70",
   "metadata": {},
   "outputs": [
    {
     "data": {
      "text/plain": [
       "0.8866086439233066"
      ]
     },
     "execution_count": 66,
     "metadata": {},
     "output_type": "execute_result"
    }
   ],
   "source": [
    "metrics.r2_score(dev_df.expt, dev_df.calc)"
   ]
  },
  {
   "cell_type": "code",
   "execution_count": 67,
   "id": "48904e4c",
   "metadata": {},
   "outputs": [
    {
     "data": {
      "text/plain": [
       "0.8812443279924299"
      ]
     },
     "execution_count": 67,
     "metadata": {},
     "output_type": "execute_result"
    }
   ],
   "source": [
    "metrics.r2_score(test_df.expt, test_df.calc)"
   ]
  },
  {
   "cell_type": "markdown",
   "id": "41fb782e",
   "metadata": {},
   "source": [
    "### Метрики для значений, полученных по формуле получаются сопоставимыми со случайным лесом и катбустовой моделью\n",
    "\n",
    "### Можно, конечно, разные гипотезы строить, но выглядит, что модели получились хорошего качества и вряд ли можно получить что-то сильно лучше"
   ]
  }
 ],
 "metadata": {
  "kernelspec": {
   "display_name": "Python 3",
   "language": "python",
   "name": "python3"
  },
  "language_info": {
   "codemirror_mode": {
    "name": "ipython",
    "version": 3
   },
   "file_extension": ".py",
   "mimetype": "text/x-python",
   "name": "python",
   "nbconvert_exporter": "python",
   "pygments_lexer": "ipython3",
   "version": "3.9.7"
  }
 },
 "nbformat": 4,
 "nbformat_minor": 5
}
